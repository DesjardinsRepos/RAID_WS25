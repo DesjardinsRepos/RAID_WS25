{
 "cells": [
  {
   "cell_type": "code",
   "execution_count": 1,
   "id": "ac45be8e",
   "metadata": {},
   "outputs": [],
   "source": [
    "import os\n",
    "import numpy as np\n",
    "from PIL import Image\n",
    "import matplotlib.pyplot as plt\n",
    "from models.model import ScikitlearnClassifierSVC\n",
    "from poisoning import PoisoningAttackSVM\n",
    "from sklearn.svm import SVC\n",
    "from sklearn.metrics import accuracy_score\n",
    "\n",
    "DATA_DIR = './train'\n",
    "CLASSES = ['0', '1', '2']\n",
    "IMG_SIZE = (32, 32) \n",
    "\n",
    "X = []\n",
    "y = []\n",
    "\n",
    "for class_label in CLASSES:\n",
    "    class_dir = os.path.join(DATA_DIR, class_label)\n",
    "    for fname in sorted(os.listdir(class_dir)): \n",
    "        if fname.endswith('.png'):\n",
    "            img_path = os.path.join(class_dir, fname)\n",
    "            img = Image.open(img_path).resize(IMG_SIZE).convert('RGB')\n",
    "            img_array = np.array(img).flatten() \n",
    "            X.append(img_array)\n",
    "            y.append(int(class_label))\n",
    "\n",
    "X = np.array(X, dtype=np.uint8)\n",
    "y = np.array(y, dtype=np.uint8)\n",
    "\n",
    "indices = np.random.permutation(len(X))\n",
    "X = X[indices]\n",
    "y = y[indices]"
   ]
  },
  {
   "cell_type": "code",
   "execution_count": 2,
   "id": "66ac7f6b",
   "metadata": {},
   "outputs": [
    {
     "data": {
      "image/png": "[encoded data removed]",
      "text/plain": [
       "<Figure size 1200x400 with 5 Axes>"
      ]
     },
     "metadata": {},
     "output_type": "display_data"
    }
   ],
   "source": [
    "num_images = 5\n",
    "random_indices = np.random.choice(len(X), size=num_images, replace=False)\n",
    "\n",
    "fig, axes = plt.subplots(1, num_images, figsize=(12, 4))\n",
    "for i, idx in enumerate(random_indices):\n",
    "    ax = axes[i]\n",
    "    ax.imshow(X[idx].reshape(32, 32, 3))\n",
    "    ax.axis('off')\n",
    "    ax.set_title(f'Label: {y[idx]}')\n",
    "plt.tight_layout()\n",
    "plt.show()"
   ]
  },
  {
   "cell_type": "code",
   "execution_count": null,
   "id": "af342942",
   "metadata": {},
   "outputs": [],
   "source": [
    "target_class1=1\n",
    "target_class2=2\n",
    "\n",
    "perm1 = np.random.permutation(len(X))\n",
    "X = X[perm1]\n",
    "y = y[perm1]\n",
    "\n",
    "target_class1_xdata=X[y==target_class1]\n",
    "target_class2_xdata=X[y==target_class2]\n",
    "target_class1_ydata=y[y==target_class1]\n",
    "target_class2_ydata=y[y==target_class2]\n",
    "\n",
    "X_train=np.concatenate([target_class1_xdata[:100],target_class2_xdata[:100]],axis=0)\n",
    "y_train=np.concatenate([target_class1_ydata[:100],target_class2_ydata[:100]],axis=0)\n",
    "X_val=np.concatenate([target_class1_xdata[100:500],target_class2_xdata[100:500]],axis=0)\n",
    "y_val=np.concatenate([target_class1_ydata[100:500],target_class2_ydata[100:500]],axis=0)\n",
    "X_test=np.concatenate([target_class1_xdata[500:2500],target_class2_xdata[500:2500]],axis=0)\n",
    "y_test=np.concatenate([target_class1_ydata[500:2500],target_class2_ydata[500:2500]],axis=0)"
   ]
  },
  {
   "cell_type": "code",
   "execution_count": 5,
   "id": "e65eeec4",
   "metadata": {},
   "outputs": [],
   "source": [
    "perm1 = np.random.permutation(X_train.shape[0])\n",
    "perm2= np.random.permutation(X_val.shape[0])\n",
    "perm3= np.random.permutation(X_test.shape[0])\n",
    "\n",
    "X_train=X_train[perm1]\n",
    "X_val=X_val[perm2]\n",
    "X_test=X_test[perm3]\n",
    "\n",
    "y_train=y_train[perm1]\n",
    "y_val=y_val[perm2]\n",
    "y_test=y_test[perm3]"
   ]
  },
  {
   "cell_type": "code",
   "execution_count": null,
   "id": "69a1b28e",
   "metadata": {},
   "outputs": [
    {
     "name": "stdout",
     "output_type": "stream",
     "text": [
      "Accuracy: 66.22%\n"
     ]
    }
   ],
   "source": [
    "svm_clf = SVC(kernel='linear', C=1.0, random_state=42)\n",
    "svm_clf.fit(X_train, y_train)\n",
    "y_pred = svm_clf.predict(X_test)\n",
    "accuracy = accuracy_score(y_test, y_pred)\n",
    "print(\"Accuracy: {:.2%}\".format(accuracy))"
   ]
  },
  {
   "cell_type": "code",
   "execution_count": 8,
   "id": "4e939520",
   "metadata": {},
   "outputs": [],
   "source": [
    "unique_classes = np.unique(y_train)\n",
    "nb_samples = len(y_train)\n",
    "nb_classes = len(unique_classes)\n",
    "nb_samples_val=len(y_val)\n",
    "\n",
    "y_train_ohe = np.zeros((nb_samples, nb_classes))\n",
    "y_val_ohe=np.zeros((nb_samples_val, nb_classes))\n",
    "\n",
    "for i, label in enumerate(y_train):\n",
    "    class_index = np.where(unique_classes == label)[0][0]\n",
    "    y_train_ohe[i, class_index] = 1\n",
    "for i, label in enumerate(y_val):\n",
    "    class_index = np.where(unique_classes == label)[0][0]\n",
    "    y_val_ohe[i, class_index] = 1"
   ]
  },
  {
   "cell_type": "code",
   "execution_count": 9,
   "id": "60eb69b8",
   "metadata": {},
   "outputs": [],
   "source": [
    "def get_adversarial_examples(x_train, y_train, attack_idx, x_val, y_val, kernel):\n",
    "    attack_classifier = ScikitlearnClassifierSVC(model=SVC(kernel=kernel),clip_values=(0,255),nb_classes=nb_classes)\n",
    "    attack_classifier.fit(x_train, y_train)\n",
    "    init_attack = np.copy(x_train[attack_idx])\n",
    "    y_attack = np.array([1, 1]) - np.copy(y_train[attack_idx])\n",
    "    attack = PoisoningAttackSVM(attack_classifier, 0.01, 1.0, x_train, y_train, x_val, y_val, max_iter=10)\n",
    "    x_attack, y_attack = attack.poison(np.array([init_attack]), y=np.array([y_attack]))\n",
    "    return x_attack,y_attack\n",
    "       \n",
    "\n",
    "def save_single_poisoned_image(img, label, index, save_dir=\"./poisoned\"):\n",
    "    if img.ndim == 1 and img.shape[0] == 3072:\n",
    "        img = img.reshape(3, 32, 32).transpose(1, 2, 0)\n",
    "    \n",
    "    if img.dtype in [np.float32, np.float64]:\n",
    "        img = img.clip(0, 255).astype(np.uint8)\n",
    "\n",
    "    img_pil = Image.fromarray(img)\n",
    "    filename = f\"{label}_{index}.png\"\n",
    "    img_pil.save(os.path.join(save_dir, filename))"
   ]
  },
  {
   "cell_type": "code",
   "execution_count": null,
   "id": "135401f1",
   "metadata": {},
   "outputs": [],
   "source": [
    "num_poisoned_samples=5\n",
    "x_poison=X_train\n",
    "y_poison=y_train\n",
    "\n",
    "from concurrent.futures import ProcessPoolExecutor, as_completed\n",
    "import numpy as np\n",
    "\n",
    "def generate_single_attack(attack_idx):\n",
    "    x_attackpoint, y_attackpoint = get_adversarial_examples(X_train, y_train_ohe, attack_idx, X_test, y_val_ohe, \"linear\")\n",
    "    id_array = np.argmax(y_attackpoint, axis=1)\n",
    "    y_attackpoint = np.where(id_array == 0, target_class1, target_class2)\n",
    "    \n",
    "    save_single_poisoned_image(x_attackpoint[0], y_attackpoint[0], attack_idx)\n",
    "    \n",
    "    return x_attackpoint, y_attackpoint\n",
    "\n",
    "x_poison_list = []\n",
    "y_poison_list = []\n",
    "\n",
    "with ProcessPoolExecutor() as executor:\n",
    "    futures = [executor.submit(generate_single_attack, attack_idx) for attack_idx in range(num_poisoned_samples)]\n",
    "    \n",
    "    for future in as_completed(futures):\n",
    "        x_attackpoint, y_attackpoint = future.result()\n",
    "        x_poison_list.append(x_attackpoint)\n",
    "        y_poison_list.append(y_attackpoint)\n",
    "\n",
    "x_poison = np.concatenate(x_poison_list, axis=0)\n",
    "y_poison = np.concatenate(y_poison_list, axis=0)"
   ]
  },
  {
   "cell_type": "code",
   "execution_count": null,
   "id": "1a0754c0",
   "metadata": {},
   "outputs": [
    {
     "name": "stdout",
     "output_type": "stream",
     "text": [
      "Poisoned Accuracy: 61.82%\n",
      "Original Accuracy: 66.22%\n",
      "Basic Poisoning Accuracy: 55.25%\n"
     ]
    }
   ],
   "source": [
    "svm_clf2 = SVC(kernel='linear', C=1.0, random_state=42, max_iter=10000)\n",
    "svm_clf2.fit(np.concatenate((X_train, x_poison), axis=0), np.concatenate((y_train, y_poison), axis=0))\n",
    "y_pred2 = svm_clf2.predict(X_test)\n",
    "accuracy = accuracy_score(y_test, y_pred2)\n",
    "print(\"Poisoned Accuracy: {:.2%}\".format(accuracy))\n",
    "\n",
    "svm_clf2 = SVC(kernel='linear', C=1.0, random_state=42, max_iter=10000)\n",
    "svm_clf2.fit(X_train, y_train)\n",
    "y_pred2 = svm_clf2.predict(X_test)\n",
    "accuracy = accuracy_score(y_test, y_pred2)\n",
    "print(\"Original Accuracy: {:.2%}\".format(accuracy))\n",
    "\n",
    "class_1_indices = np.where(y_val == 1)[0]\n",
    "x_val_class_1 = X_val[class_1_indices]\n",
    "y_val_class_1 = y_val[class_1_indices]\n",
    "selected_indices = np.random.choice(len(x_val_class_1), size=200, replace=False)\n",
    "x_val_flipped = x_val_class_1[selected_indices]\n",
    "y_val_flipped = y_val_class_1[selected_indices]\n",
    "y_val_flipped[:] = 2\n",
    "X_train_with_poison = np.concatenate((X_train, x_val_flipped), axis=0)\n",
    "y_train_with_poison = np.concatenate((y_train, y_val_flipped), axis=0)\n",
    "svm_clf2 = SVC(kernel='linear', C=1.0, random_state=42)\n",
    "svm_clf2.fit(X_train_with_poison, y_train_with_poison)\n",
    "y_pred2 = svm_clf2.predict(X_test)\n",
    "accuracy = accuracy_score(y_test, y_pred2)\n",
    "print(\"Basic Poisoning Accuracy: {:.2%}\".format(accuracy))"
   ]
  }
 ],
 "metadata": {
  "kernelspec": {
   "display_name": "svm-poisoning-haL7P6RK-py3.13",
   "language": "python",
   "name": "python3"
  },
  "language_info": {
   "codemirror_mode": {
    "name": "ipython",
    "version": 3
   },
   "file_extension": ".py",
   "mimetype": "text/x-python",
   "name": "python",
   "nbconvert_exporter": "python",
   "pygments_lexer": "ipython3",
   "version": "3.13.3"
  }
 },
 "nbformat": 4,
 "nbformat_minor": 5
}
