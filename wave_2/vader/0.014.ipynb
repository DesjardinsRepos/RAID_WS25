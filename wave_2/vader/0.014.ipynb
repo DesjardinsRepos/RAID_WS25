{
 "cells": [
  {
   "cell_type": "code",
   "execution_count": null,
   "id": "23184bce",
   "metadata": {
    "vscode": {
     "languageId": "plaintext"
    }
   },
   "outputs": [],
   "source": [
    "# Solution: calculate average pixel value (0.014)\n",
    "\n",
    "import numpy as np\n",
    "import cv2\n",
    "\n",
    "def reconstruct(frames: list) -> np.ndarray:\n",
    "    acc = np.zeros_like(frames[0], dtype=np.float32)\n",
    "    for frame in frames:\n",
    "        acc += frame.astype(np.float32)\n",
    "    background_avg = acc / len(frames)\n",
    "    background_img = np.clip(background_avg, 0, 255).astype(np.uint8)\n",
    "    background_img = cv2.resize(background_img, (1280, 720))\n",
    "    return background_img"
   ]
  }
 ],
 "metadata": {
  "language_info": {
   "name": "python"
  }
 },
 "nbformat": 4,
 "nbformat_minor": 5
}
