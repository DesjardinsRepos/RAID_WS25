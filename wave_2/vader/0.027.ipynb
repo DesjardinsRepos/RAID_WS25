{
 "cells": [
  {
   "cell_type": "code",
   "execution_count": null,
   "id": "18ed5eba",
   "metadata": {
    "vscode": {
     "languageId": "plaintext"
    }
   },
   "outputs": [],
   "source": [
    "# Solution: take the second most frequent pixel value (0.027)\n",
    "\n",
    "import numpy as np\n",
    "import cv2\n",
    "\n",
    "def reconstruct(frames: list) -> np.ndarray:\n",
    "    stack = np.stack(frames, axis=0)\n",
    "    h, w, c = stack.shape[1:]\n",
    "    out = np.zeros((h, w, c), dtype=np.uint8)\n",
    "    for i in range(h):\n",
    "        for j in range(w):\n",
    "            for k in range(c):\n",
    "                vals = stack[:, i, j, k]\n",
    "                uniq, counts = np.unique(vals, return_counts=True)\n",
    "                if uniq.size > 1:\n",
    "                    second = uniq[np.argsort(counts)[-2]]\n",
    "                    out[i, j, k] = second\n",
    "                else:\n",
    "                    out[i, j, k] = uniq[0]\n",
    "    out = cv2.resize(out, (1280, 720))\n",
    "    return out\n"
   ]
  }
 ],
 "metadata": {
  "language_info": {
   "name": "python"
  }
 },
 "nbformat": 4,
 "nbformat_minor": 5
}
